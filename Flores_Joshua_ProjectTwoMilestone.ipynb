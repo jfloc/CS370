{
 "cells": [
  {
   "cell_type": "markdown",
   "metadata": {},
   "source": [
    "# Treasure Hunt Game Notebook\n",
    "\n",
    "## Read and Review Your Starter Code\n",
    "The theme of this project is a popular treasure hunt game in which the player needs to find the treasure before the pirate does. While you will not be developing the entire game, you will write the part of the game that represents the intelligent agent, which is a pirate in this case. The pirate will try to find the optimal path to the treasure using deep Q-learning. \n",
    "\n",
    "You have been provided with two Python classes and this notebook to help you with this assignment. The first class, TreasureMaze.py, represents the environment, which includes a maze object defined as a matrix. The second class, GameExperience.py, stores the episodes – that is, all the states that come in between the initial state and the terminal state. This is later used by the agent for learning by experience, called \"exploration\". This notebook shows how to play a game. Your task is to complete the deep Q-learning implementation for which a skeleton implementation has been provided. The code blocks you will need to complete has #TODO as a header.\n",
    "\n",
    "First, read and review the next few code and instruction blocks to understand the code that you have been given."
   ]
  },
  {
   "cell_type": "code",
   "execution_count": 1,
   "metadata": {},
   "outputs": [
    {
     "name": "stderr",
     "output_type": "stream",
     "text": [
      "Using TensorFlow backend.\n"
     ]
    }
   ],
   "source": [
    "from __future__ import print_function\n",
    "import os, sys, time, datetime, json, random\n",
    "import numpy as np\n",
    "from keras.models import Sequential\n",
    "from keras.layers.core import Dense, Activation\n",
    "from keras.optimizers import SGD , Adam, RMSprop\n",
    "from keras.layers.advanced_activations import PReLU\n",
    "import matplotlib.pyplot as plt\n",
    "from TreasureMaze import TreasureMaze\n",
    "from GameExperience import GameExperience\n",
    "%matplotlib inline"
   ]
  },
  {
   "cell_type": "markdown",
   "metadata": {},
   "source": [
    "The following code block contains an 8x8 matrix that will be used as a maze object:"
   ]
  },
  {
   "cell_type": "code",
   "execution_count": 2,
   "metadata": {},
   "outputs": [],
   "source": [
    "maze = np.array([\n",
    "    [ 1.,  0.,  1.,  1.,  1.,  1.,  1.,  1.],\n",
    "    [ 1.,  0.,  1.,  1.,  1.,  0.,  1.,  1.],\n",
    "    [ 1.,  1.,  1.,  1.,  0.,  1.,  0.,  1.],\n",
    "    [ 1.,  1.,  1.,  0.,  1.,  1.,  1.,  1.],\n",
    "    [ 1.,  1.,  0.,  1.,  1.,  1.,  1.,  1.],\n",
    "    [ 1.,  1.,  1.,  0.,  1.,  0.,  0.,  0.],\n",
    "    [ 1.,  1.,  1.,  0.,  1.,  1.,  1.,  1.],\n",
    "    [ 1.,  1.,  1.,  1.,  0.,  1.,  1.,  1.]\n",
    "])"
   ]
  },
  {
   "cell_type": "markdown",
   "metadata": {},
   "source": [
    "This helper function allows a visual representation of the maze object:"
   ]
  },
  {
   "cell_type": "code",
   "execution_count": 3,
   "metadata": {},
   "outputs": [],
   "source": [
    "def show(qmaze):\n",
    "    plt.grid('on')\n",
    "    nrows, ncols = qmaze.maze.shape\n",
    "    ax = plt.gca()\n",
    "    ax.set_xticks(np.arange(0.5, nrows, 1))\n",
    "    ax.set_yticks(np.arange(0.5, ncols, 1))\n",
    "    ax.set_xticklabels([])\n",
    "    ax.set_yticklabels([])\n",
    "    canvas = np.copy(qmaze.maze)\n",
    "    for row,col in qmaze.visited:\n",
    "        canvas[row,col] = 0.6\n",
    "    pirate_row, pirate_col, _ = qmaze.state\n",
    "    canvas[pirate_row, pirate_col] = 0.3   # pirate cell\n",
    "    canvas[nrows-1, ncols-1] = 0.9 # treasure cell\n",
    "    img = plt.imshow(canvas, interpolation='none', cmap='gray')\n",
    "    return img"
   ]
  },
  {
   "cell_type": "markdown",
   "metadata": {},
   "source": [
    "The pirate agent can move in four directions: left, right, up, and down. \n",
    "\n",
    "While the agent primarily learns by experience through exploitation, often, the agent can choose to explore the environment to find previously undiscovered paths. This is called \"exploration\" and is defined by epsilon. This value is typically a lower value such as 0.1, which means for every ten attempts, the agent will attempt to learn by experience nine times and will randomly explore a new path one time. You are encouraged to try various values for the exploration factor and see how the algorithm performs."
   ]
  },
  {
   "cell_type": "code",
   "execution_count": 4,
   "metadata": {},
   "outputs": [],
   "source": [
    "LEFT = 0\n",
    "UP = 1\n",
    "RIGHT = 2\n",
    "DOWN = 3\n",
    "\n",
    "\n",
    "# Exploration factor\n",
    "epsilon = 0.1\n",
    "\n",
    "# Actions dictionary\n",
    "actions_dict = {\n",
    "    LEFT: 'left',\n",
    "    UP: 'up',\n",
    "    RIGHT: 'right',\n",
    "    DOWN: 'down',\n",
    "}\n",
    "\n",
    "num_actions = len(actions_dict)\n"
   ]
  },
  {
   "cell_type": "markdown",
   "metadata": {},
   "source": [
    "The sample code block and output below show creating a maze object and performing one action (DOWN), which returns the reward. The resulting updated environment is visualized."
   ]
  },
  {
   "cell_type": "code",
   "execution_count": 5,
   "metadata": {},
   "outputs": [
    {
     "name": "stdout",
     "output_type": "stream",
     "text": [
      "reward= -0.04\n"
     ]
    },
    {
     "data": {
      "text/plain": [
       "<matplotlib.image.AxesImage at 0x2110acd1508>"
      ]
     },
     "execution_count": 5,
     "metadata": {},
     "output_type": "execute_result"
    },
    {
     "data": {
      "image/png": "[encoded data removed]",
      "text/plain": [
       "<Figure size 432x288 with 1 Axes>"
      ]
     },
     "metadata": {
      "needs_background": "light"
     },
     "output_type": "display_data"
    }
   ],
   "source": [
    "qmaze = TreasureMaze(maze)\n",
    "canvas, reward, game_over = qmaze.act(DOWN)\n",
    "print(\"reward=\", reward)\n",
    "show(qmaze)"
   ]
  },
  {
   "cell_type": "markdown",
   "metadata": {},
   "source": [
    "This function simulates a full game based on the provided trained model. The other parameters include the TreasureMaze object and the starting position of the pirate."
   ]
  },
  {
   "cell_type": "code",
   "execution_count": 6,
   "metadata": {},
   "outputs": [],
   "source": [
    "def play_game(model, qmaze, pirate_cell):\n",
    "    qmaze.reset(pirate_cell)\n",
    "    envstate = qmaze.observe()\n",
    "    while True:\n",
    "        prev_envstate = envstate\n",
    "        # get next action\n",
    "        q = model.predict(prev_envstate)\n",
    "        action = np.argmax(q[0])\n",
    "\n",
    "        # apply action, get rewards and new state\n",
    "        envstate, reward, game_status = qmaze.act(action)\n",
    "        if game_status == 'win':\n",
    "            return True\n",
    "        elif game_status == 'lose':\n",
    "            return False"
   ]
  },
  {
   "cell_type": "markdown",
   "metadata": {},
   "source": [
    "This function helps you to determine whether the pirate can win any game at all. If your maze is not well designed, the pirate may not win any game at all. In this case, your training would not yield any result. The provided maze in this notebook ensures that there is a path to win and you can run this method to check."
   ]
  },
  {
   "cell_type": "code",
   "execution_count": 7,
   "metadata": {},
   "outputs": [],
   "source": [
    "def completion_check(model, qmaze):\n",
    "    for cell in qmaze.free_cells:\n",
    "        if not qmaze.valid_actions(cell):\n",
    "            return False\n",
    "        if not play_game(model, qmaze, cell):\n",
    "            return False\n",
    "    return True"
   ]
  },
  {
   "cell_type": "markdown",
   "metadata": {},
   "source": [
    "The code you have been given in this block will build the neural network model. Review the code and note the number of layers, as well as the activation, optimizer, and loss functions that are used to train the model."
   ]
  },
  {
   "cell_type": "code",
   "execution_count": 8,
   "metadata": {},
   "outputs": [],
   "source": [
    "def build_model(maze):\n",
    "    model = Sequential()\n",
    "    model.add(Dense(maze.size, input_shape=(maze.size,)))\n",
    "    model.add(PReLU())\n",
    "    model.add(Dense(maze.size))\n",
    "    model.add(PReLU())\n",
    "    model.add(Dense(num_actions))\n",
    "    model.compile(optimizer='adam', loss='mse')\n",
    "    return model"
   ]
  },
  {
   "cell_type": "markdown",
   "metadata": {},
   "source": [
    "# #TODO: Complete the Q-Training Algorithm Code Block\n",
    "\n",
    "This is your deep Q-learning implementation. The goal of your deep Q-learning implementation is to find the best possible navigation sequence that results in reaching the treasure cell while maximizing the reward. In your implementation, you need to determine the optimal number of epochs to achieve a 100% win rate.\n",
    "\n",
    "You will need to complete the section starting with #pseudocode. The pseudocode has been included for you."
   ]
  },
  {
   "cell_type": "code",
   "execution_count": 9,
   "metadata": {},
   "outputs": [],
   "source": [
    "def qtrain(model, maze, **opt):\n",
    "    #exploration factor\n",
    "    global epsilon\n",
    "    \n",
    "    #number of epochs\n",
    "    n_epoch = opt.get('n_epoch', 15000)\n",
    "    \n",
    "    # maximum memory to store episodes\n",
    "    max_memory = opt.get('max_memory', 1000)\n",
    "    \n",
    "    # maximum data size for training\n",
    "    data_size = opt.get('data_size', 50)\n",
    "    \n",
    "    # start time\n",
    "    start_time = datetime.datetime.now()\n",
    "    \n",
    "    # Construct environment/game from numpy array: maze (see above)\n",
    "    qmaze = TreasureMaze(maze)\n",
    "    \n",
    "    # Initialize experience replay object\n",
    "    experience = GameExperience(model, max_memory=max_memory)\n",
    "    \n",
    "    win_history = [] # history of win/lose game\n",
    "    hsize = qmaze.maze.size // 2 # history window size\n",
    "    win_rate = 0.0\n",
    "\n",
    "    for epoch in range(n_epoch):\n",
    "        pirate_cell = random.choice(qmaze.free_cells)\n",
    "        qmaze.reset(pirate_cell)\n",
    "        envstate = qmaze.observe()\n",
    "        n_episodes = 0\n",
    "        game_status = qmaze.game_status()\n",
    "        while game_status == 'not_over':\n",
    "            previous_envstate = envstate\n",
    "            if np.random.rand() < epsilon:\n",
    "                action = np.random.choice(qmaze.valid_actions())\n",
    "            else:\n",
    "                action = np.argmax(experience.predict(previous_envstate))\n",
    "            envstate, reward, game_status = qmaze.act(action)\n",
    "            episode = [previous_envstate, action, reward, envstate, game_status in ['win','lose']]\n",
    "            experience.remember(episode)\n",
    "            inputs, targets = experience.get_data(data_size=data_size)\n",
    "            loss = model.fit(inputs, targets, epochs=1, batch_size=16, verbose=0).history['loss'][0]\n",
    "            n_episodes += 1\n",
    "            if game_status != 'not_over':\n",
    "                if game_status == 'win':\n",
    "                    win_history.append(1)\n",
    "                else:\n",
    "                    win_history.append(0)\n",
    "                win_rate = sum(win_history[-hsize:]) / hsize\n",
    "                break\n",
    "        \n",
    "        # Print the epoch, loss, episodes, win count, and win rate for each epoch\n",
    "        dt = datetime.datetime.now() - start_time\n",
    "        t = format_time(dt.total_seconds())\n",
    "        template = \"Epoch: {:03d}/{:d} | Loss: {:.4f} | Episodes: {:d} | Win count: {:d} | Win rate: {:.3f} | time: {}\"\n",
    "        print(template.format(epoch, n_epoch-1, loss, n_episodes, sum(win_history), win_rate, t))\n",
    "        # we simply check if training has exhausted all free calls and if in all\n",
    "        # cases the agent won.\n",
    "        if win_rate > 0.9:\n",
    "            epsilon = 0.05\n",
    "        if sum(win_history[-hsize:]) == hsize and completion_check(model, qmaze):\n",
    "            print(\"Reached 100%% win rate at epoch: %d\" % (epoch,))\n",
    "            break\n",
    "    \n",
    "    # Determine the total time for training\n",
    "    dt = datetime.datetime.now() - start_time\n",
    "    seconds = dt.total_seconds()\n",
    "    t = format_time(seconds)\n",
    "    \n",
    "    print(\"n_epoch: %d, max_mem: %d, data: %d, time: %s\" % (epoch, max_memory, data_size, t))\n",
    "    return seconds\n",
    "\n",
    "def format_time(seconds):\n",
    "    if seconds < 400:\n",
    "        s = float(seconds)\n",
    "        return \"%.1f seconds\" % (s,)\n",
    "    elif seconds < 4000:\n",
    "        m = seconds / 60.0\n",
    "        return \"%.2f minutes\" % (m,)\n",
    "    else:\n",
    "        h = seconds / 3600.0\n",
    "        return \"%.2f hours\" % (h,)"
   ]
  },
  {
   "cell_type": "markdown",
   "metadata": {},
   "source": [
    "## Test Your Model\n",
    "\n",
    "Now we will start testing the deep Q-learning implementation. To begin, select **Cell**, then **Run All** from the menu bar. This will run your notebook. As it runs, you should see output begin to appear beneath the next few cells. The code below creates an instance of TreasureMaze."
   ]
  },
  {
   "cell_type": "code",
   "execution_count": 10,
   "metadata": {},
   "outputs": [
    {
     "data": {
      "text/plain": [
       "<matplotlib.image.AxesImage at 0x2110ad8ec48>"
      ]
     },
     "execution_count": 10,
     "metadata": {},
     "output_type": "execute_result"
    },
    {
     "data": {
      "image/png": "[encoded data removed]",
      "text/plain": [
       "<Figure size 432x288 with 1 Axes>"
      ]
     },
     "metadata": {
      "needs_background": "light"
     },
     "output_type": "display_data"
    }
   ],
   "source": [
    "qmaze = TreasureMaze(maze)\n",
    "show(qmaze)"
   ]
  },
  {
   "cell_type": "markdown",
   "metadata": {},
   "source": [
    "In the next code block, you will build your model and train it using deep Q-learning. Note: This step takes several minutes to fully run."
   ]
  },
  {
   "cell_type": "code",
   "execution_count": 11,
   "metadata": {},
   "outputs": [
    {
     "name": "stdout",
     "output_type": "stream",
     "text": [
      "not_over\n",
      "Epoch: 000/999 | Loss: 0.0011 | Episodes: 114 | Win count: 1 | Win rate: 0.031 | time: 7.5 seconds\n",
      "not_over\n",
      "Epoch: 001/999 | Loss: 0.1566 | Episodes: 5 | Win count: 2 | Win rate: 0.062 | time: 8.1 seconds\n",
      "not_over\n",
      "Epoch: 002/999 | Loss: 0.1464 | Episodes: 2 | Win count: 3 | Win rate: 0.094 | time: 8.4 seconds\n",
      "not_over\n",
      "Epoch: 003/999 | Loss: 0.0068 | Episodes: 134 | Win count: 3 | Win rate: 0.094 | time: 23.0 seconds\n",
      "not_over\n",
      "Epoch: 004/999 | Loss: 0.0044 | Episodes: 135 | Win count: 3 | Win rate: 0.094 | time: 35.4 seconds\n",
      "not_over\n",
      "Epoch: 005/999 | Loss: 0.0037 | Episodes: 135 | Win count: 3 | Win rate: 0.094 | time: 48.0 seconds\n",
      "not_over\n",
      "Epoch: 006/999 | Loss: 0.0036 | Episodes: 1 | Win count: 4 | Win rate: 0.125 | time: 48.1 seconds\n",
      "not_over\n",
      "Epoch: 007/999 | Loss: 0.0467 | Episodes: 141 | Win count: 4 | Win rate: 0.125 | time: 60.9 seconds\n",
      "not_over\n",
      "Epoch: 008/999 | Loss: 0.0615 | Episodes: 141 | Win count: 4 | Win rate: 0.125 | time: 70.5 seconds\n",
      "not_over\n",
      "Epoch: 009/999 | Loss: 0.0494 | Episodes: 142 | Win count: 4 | Win rate: 0.125 | time: 79.4 seconds\n",
      "not_over\n",
      "Epoch: 010/999 | Loss: 0.0403 | Episodes: 3 | Win count: 5 | Win rate: 0.156 | time: 79.6 seconds\n",
      "not_over\n",
      "Epoch: 011/999 | Loss: 0.0028 | Episodes: 144 | Win count: 5 | Win rate: 0.156 | time: 92.2 seconds\n",
      "not_over\n",
      "Epoch: 012/999 | Loss: 0.0277 | Episodes: 141 | Win count: 5 | Win rate: 0.156 | time: 106.0 seconds\n",
      "not_over\n",
      "Epoch: 013/999 | Loss: 0.0030 | Episodes: 147 | Win count: 5 | Win rate: 0.156 | time: 119.3 seconds\n",
      "not_over\n",
      "Epoch: 014/999 | Loss: 0.0032 | Episodes: 137 | Win count: 5 | Win rate: 0.156 | time: 128.2 seconds\n",
      "not_over\n",
      "Epoch: 015/999 | Loss: 0.0014 | Episodes: 140 | Win count: 5 | Win rate: 0.156 | time: 136.8 seconds\n",
      "not_over\n",
      "Epoch: 016/999 | Loss: 0.0028 | Episodes: 143 | Win count: 5 | Win rate: 0.156 | time: 153.6 seconds\n",
      "not_over\n",
      "Epoch: 017/999 | Loss: 0.0034 | Episodes: 149 | Win count: 5 | Win rate: 0.156 | time: 167.5 seconds\n",
      "not_over\n",
      "Epoch: 018/999 | Loss: 0.0046 | Episodes: 144 | Win count: 5 | Win rate: 0.156 | time: 181.0 seconds\n",
      "not_over\n",
      "Epoch: 019/999 | Loss: 0.0522 | Episodes: 153 | Win count: 5 | Win rate: 0.156 | time: 194.9 seconds\n",
      "not_over\n",
      "Epoch: 020/999 | Loss: 0.0673 | Episodes: 144 | Win count: 5 | Win rate: 0.156 | time: 209.0 seconds\n",
      "not_over\n",
      "Epoch: 021/999 | Loss: 0.0020 | Episodes: 102 | Win count: 6 | Win rate: 0.188 | time: 215.2 seconds\n",
      "not_over\n",
      "Epoch: 022/999 | Loss: 0.0521 | Episodes: 98 | Win count: 7 | Win rate: 0.219 | time: 224.1 seconds\n",
      "not_over\n",
      "Epoch: 023/999 | Loss: 0.1263 | Episodes: 99 | Win count: 8 | Win rate: 0.250 | time: 235.8 seconds\n",
      "not_over\n",
      "Epoch: 024/999 | Loss: 0.0029 | Episodes: 139 | Win count: 8 | Win rate: 0.250 | time: 250.7 seconds\n",
      "not_over\n",
      "Epoch: 025/999 | Loss: 0.0027 | Episodes: 151 | Win count: 8 | Win rate: 0.250 | time: 264.7 seconds\n",
      "not_over\n",
      "Epoch: 026/999 | Loss: 0.0041 | Episodes: 76 | Win count: 9 | Win rate: 0.281 | time: 271.4 seconds\n",
      "not_over\n",
      "Epoch: 027/999 | Loss: 0.0061 | Episodes: 7 | Win count: 10 | Win rate: 0.312 | time: 272.0 seconds\n",
      "not_over\n",
      "Epoch: 028/999 | Loss: 0.0360 | Episodes: 8 | Win count: 11 | Win rate: 0.344 | time: 272.8 seconds\n",
      "not_over\n",
      "Epoch: 029/999 | Loss: 0.0848 | Episodes: 96 | Win count: 12 | Win rate: 0.375 | time: 281.0 seconds\n",
      "not_over\n",
      "Epoch: 030/999 | Loss: 0.0031 | Episodes: 137 | Win count: 12 | Win rate: 0.375 | time: 294.0 seconds\n",
      "not_over\n",
      "Epoch: 031/999 | Loss: 0.0521 | Episodes: 24 | Win count: 13 | Win rate: 0.406 | time: 296.1 seconds\n",
      "not_over\n",
      "Epoch: 032/999 | Loss: 0.0037 | Episodes: 99 | Win count: 14 | Win rate: 0.406 | time: 305.2 seconds\n",
      "not_over\n",
      "Epoch: 033/999 | Loss: 0.0029 | Episodes: 151 | Win count: 14 | Win rate: 0.375 | time: 317.2 seconds\n",
      "not_over\n",
      "Epoch: 034/999 | Loss: 0.0037 | Episodes: 3 | Win count: 15 | Win rate: 0.375 | time: 317.5 seconds\n",
      "not_over\n",
      "Epoch: 035/999 | Loss: 0.0429 | Episodes: 40 | Win count: 16 | Win rate: 0.406 | time: 321.1 seconds\n",
      "not_over\n",
      "Epoch: 036/999 | Loss: 0.0380 | Episodes: 1 | Win count: 17 | Win rate: 0.438 | time: 321.2 seconds\n",
      "not_over\n",
      "Epoch: 037/999 | Loss: 0.0040 | Episodes: 138 | Win count: 17 | Win rate: 0.438 | time: 333.1 seconds\n",
      "not_over\n",
      "Epoch: 038/999 | Loss: 0.0163 | Episodes: 144 | Win count: 17 | Win rate: 0.406 | time: 344.6 seconds\n",
      "not_over\n",
      "Epoch: 039/999 | Loss: 0.0425 | Episodes: 3 | Win count: 18 | Win rate: 0.438 | time: 344.8 seconds\n",
      "not_over\n",
      "Epoch: 040/999 | Loss: 0.0065 | Episodes: 100 | Win count: 19 | Win rate: 0.469 | time: 351.2 seconds\n",
      "not_over\n",
      "Epoch: 041/999 | Loss: 0.0528 | Episodes: 138 | Win count: 19 | Win rate: 0.469 | time: 362.2 seconds\n",
      "not_over\n",
      "Epoch: 042/999 | Loss: 0.0021 | Episodes: 20 | Win count: 20 | Win rate: 0.469 | time: 364.2 seconds\n",
      "not_over\n",
      "Epoch: 043/999 | Loss: 0.0021 | Episodes: 22 | Win count: 21 | Win rate: 0.500 | time: 366.6 seconds\n",
      "not_over\n",
      "Epoch: 044/999 | Loss: 0.0209 | Episodes: 149 | Win count: 21 | Win rate: 0.500 | time: 384.3 seconds\n",
      "not_over\n",
      "Epoch: 045/999 | Loss: 0.0023 | Episodes: 6 | Win count: 22 | Win rate: 0.531 | time: 384.9 seconds\n",
      "not_over\n",
      "Epoch: 046/999 | Loss: 0.0138 | Episodes: 16 | Win count: 23 | Win rate: 0.562 | time: 386.7 seconds\n",
      "not_over\n",
      "Epoch: 047/999 | Loss: 0.0641 | Episodes: 36 | Win count: 24 | Win rate: 0.594 | time: 390.5 seconds\n",
      "not_over\n",
      "Epoch: 048/999 | Loss: 0.0040 | Episodes: 136 | Win count: 24 | Win rate: 0.594 | time: 6.76 minutes\n",
      "not_over\n",
      "Epoch: 049/999 | Loss: 0.0076 | Episodes: 2 | Win count: 25 | Win rate: 0.625 | time: 6.77 minutes\n",
      "not_over\n",
      "Epoch: 050/999 | Loss: 0.0181 | Episodes: 3 | Win count: 26 | Win rate: 0.656 | time: 6.77 minutes\n",
      "not_over\n",
      "Epoch: 051/999 | Loss: 0.0210 | Episodes: 144 | Win count: 26 | Win rate: 0.656 | time: 7.04 minutes\n",
      "not_over\n",
      "Epoch: 052/999 | Loss: 0.0174 | Episodes: 1 | Win count: 27 | Win rate: 0.688 | time: 7.05 minutes\n",
      "not_over\n",
      "Epoch: 053/999 | Loss: 0.0077 | Episodes: 95 | Win count: 28 | Win rate: 0.688 | time: 7.25 minutes\n",
      "not_over\n",
      "Epoch: 054/999 | Loss: 0.0157 | Episodes: 141 | Win count: 28 | Win rate: 0.656 | time: 7.52 minutes\n",
      "not_over\n",
      "Epoch: 055/999 | Loss: 0.0102 | Episodes: 56 | Win count: 29 | Win rate: 0.656 | time: 7.63 minutes\n",
      "not_over\n",
      "Epoch: 056/999 | Loss: 0.0048 | Episodes: 143 | Win count: 29 | Win rate: 0.656 | time: 7.90 minutes\n",
      "not_over\n",
      "Epoch: 057/999 | Loss: 0.0057 | Episodes: 32 | Win count: 30 | Win rate: 0.688 | time: 7.97 minutes\n",
      "not_over\n",
      "Epoch: 058/999 | Loss: 0.0077 | Episodes: 15 | Win count: 31 | Win rate: 0.688 | time: 7.99 minutes\n",
      "not_over\n",
      "Epoch: 059/999 | Loss: 0.0045 | Episodes: 146 | Win count: 31 | Win rate: 0.656 | time: 8.27 minutes\n",
      "not_over\n",
      "Epoch: 060/999 | Loss: 0.0232 | Episodes: 139 | Win count: 31 | Win rate: 0.625 | time: 8.55 minutes\n",
      "not_over\n",
      "Epoch: 061/999 | Loss: 0.0553 | Episodes: 144 | Win count: 31 | Win rate: 0.594 | time: 8.84 minutes\n",
      "not_over\n",
      "Epoch: 062/999 | Loss: 0.0030 | Episodes: 138 | Win count: 31 | Win rate: 0.594 | time: 9.10 minutes\n",
      "not_over\n",
      "Epoch: 063/999 | Loss: 0.0031 | Episodes: 141 | Win count: 31 | Win rate: 0.562 | time: 9.38 minutes\n",
      "not_over\n",
      "Epoch: 064/999 | Loss: 0.0025 | Episodes: 49 | Win count: 32 | Win rate: 0.562 | time: 9.46 minutes\n",
      "not_over\n",
      "Epoch: 065/999 | Loss: 0.0498 | Episodes: 141 | Win count: 32 | Win rate: 0.562 | time: 9.72 minutes\n",
      "not_over\n",
      "Epoch: 066/999 | Loss: 0.0135 | Episodes: 16 | Win count: 33 | Win rate: 0.562 | time: 9.75 minutes\n",
      "not_over\n",
      "Epoch: 067/999 | Loss: 0.0099 | Episodes: 13 | Win count: 34 | Win rate: 0.562 | time: 9.78 minutes\n",
      "not_over\n",
      "Epoch: 068/999 | Loss: 0.0164 | Episodes: 59 | Win count: 35 | Win rate: 0.562 | time: 9.90 minutes\n",
      "not_over\n",
      "Epoch: 069/999 | Loss: 0.1407 | Episodes: 74 | Win count: 36 | Win rate: 0.594 | time: 10.04 minutes\n",
      "not_over\n",
      "Epoch: 070/999 | Loss: 0.0119 | Episodes: 139 | Win count: 36 | Win rate: 0.594 | time: 10.32 minutes\n",
      "not_over\n",
      "Epoch: 071/999 | Loss: 0.0473 | Episodes: 12 | Win count: 37 | Win rate: 0.594 | time: 10.34 minutes\n",
      "not_over\n",
      "Epoch: 072/999 | Loss: 0.0167 | Episodes: 58 | Win count: 38 | Win rate: 0.594 | time: 10.46 minutes\n",
      "not_over\n",
      "Epoch: 073/999 | Loss: 0.0065 | Episodes: 135 | Win count: 38 | Win rate: 0.594 | time: 10.70 minutes\n",
      "not_over\n",
      "Epoch: 074/999 | Loss: 0.0174 | Episodes: 5 | Win count: 39 | Win rate: 0.594 | time: 10.71 minutes\n",
      "not_over\n",
      "Epoch: 075/999 | Loss: 0.0295 | Episodes: 3 | Win count: 40 | Win rate: 0.594 | time: 10.71 minutes\n",
      "not_over\n",
      "Epoch: 076/999 | Loss: 0.0451 | Episodes: 2 | Win count: 41 | Win rate: 0.625 | time: 10.72 minutes\n",
      "not_over\n",
      "Epoch: 077/999 | Loss: 0.0051 | Episodes: 25 | Win count: 42 | Win rate: 0.625 | time: 10.75 minutes\n",
      "not_over\n",
      "Epoch: 078/999 | Loss: 0.0070 | Episodes: 106 | Win count: 43 | Win rate: 0.625 | time: 10.86 minutes\n",
      "not_over\n",
      "Epoch: 079/999 | Loss: 0.0470 | Episodes: 138 | Win count: 43 | Win rate: 0.594 | time: 11.01 minutes\n",
      "not_over\n",
      "Epoch: 080/999 | Loss: 0.0055 | Episodes: 13 | Win count: 44 | Win rate: 0.625 | time: 11.03 minutes\n",
      "not_over\n",
      "Epoch: 081/999 | Loss: 0.0105 | Episodes: 44 | Win count: 45 | Win rate: 0.625 | time: 11.07 minutes\n",
      "not_over\n",
      "Epoch: 082/999 | Loss: 0.0142 | Episodes: 140 | Win count: 45 | Win rate: 0.594 | time: 11.21 minutes\n",
      "not_over\n",
      "Epoch: 083/999 | Loss: 0.0040 | Episodes: 143 | Win count: 45 | Win rate: 0.594 | time: 11.37 minutes\n",
      "not_over\n",
      "Epoch: 084/999 | Loss: 0.0112 | Episodes: 5 | Win count: 46 | Win rate: 0.594 | time: 11.37 minutes\n",
      "not_over\n",
      "Epoch: 085/999 | Loss: 0.0060 | Episodes: 1 | Win count: 47 | Win rate: 0.594 | time: 11.37 minutes\n",
      "not_over\n",
      "Epoch: 086/999 | Loss: 0.0639 | Episodes: 139 | Win count: 47 | Win rate: 0.594 | time: 11.51 minutes\n",
      "not_over\n",
      "Epoch: 087/999 | Loss: 0.0206 | Episodes: 9 | Win count: 48 | Win rate: 0.594 | time: 11.52 minutes\n",
      "not_over\n",
      "Epoch: 088/999 | Loss: 0.0386 | Episodes: 24 | Win count: 49 | Win rate: 0.625 | time: 11.54 minutes\n",
      "not_over\n",
      "Epoch: 089/999 | Loss: 0.0048 | Episodes: 17 | Win count: 50 | Win rate: 0.625 | time: 11.56 minutes\n",
      "not_over\n",
      "Epoch: 090/999 | Loss: 0.0457 | Episodes: 141 | Win count: 50 | Win rate: 0.594 | time: 11.71 minutes\n",
      "not_over\n",
      "Epoch: 091/999 | Loss: 0.0307 | Episodes: 35 | Win count: 51 | Win rate: 0.625 | time: 11.74 minutes\n",
      "not_over\n",
      "Epoch: 092/999 | Loss: 0.0051 | Episodes: 43 | Win count: 52 | Win rate: 0.656 | time: 11.78 minutes\n",
      "not_over\n",
      "Epoch: 093/999 | Loss: 0.0112 | Episodes: 32 | Win count: 53 | Win rate: 0.688 | time: 11.82 minutes\n",
      "not_over\n",
      "Epoch: 094/999 | Loss: 0.0245 | Episodes: 141 | Win count: 53 | Win rate: 0.688 | time: 11.96 minutes\n",
      "not_over\n",
      "Epoch: 095/999 | Loss: 0.0481 | Episodes: 134 | Win count: 53 | Win rate: 0.688 | time: 12.11 minutes\n",
      "not_over\n",
      "Epoch: 096/999 | Loss: 0.0037 | Episodes: 5 | Win count: 54 | Win rate: 0.688 | time: 12.11 minutes\n",
      "not_over\n",
      "Epoch: 097/999 | Loss: 0.0682 | Episodes: 20 | Win count: 55 | Win rate: 0.719 | time: 12.13 minutes\n",
      "not_over\n",
      "Epoch: 098/999 | Loss: 0.0135 | Episodes: 18 | Win count: 56 | Win rate: 0.719 | time: 12.16 minutes\n",
      "not_over\n",
      "Epoch: 099/999 | Loss: 0.0221 | Episodes: 77 | Win count: 57 | Win rate: 0.719 | time: 12.23 minutes\n",
      "not_over\n",
      "Epoch: 100/999 | Loss: 0.0555 | Episodes: 26 | Win count: 58 | Win rate: 0.719 | time: 12.26 minutes\n",
      "not_over\n",
      "Epoch: 101/999 | Loss: 0.0150 | Episodes: 22 | Win count: 59 | Win rate: 0.719 | time: 12.28 minutes\n",
      "not_over\n",
      "Epoch: 102/999 | Loss: 0.0157 | Episodes: 4 | Win count: 60 | Win rate: 0.750 | time: 12.29 minutes\n",
      "not_over\n",
      "Epoch: 103/999 | Loss: 0.0064 | Episodes: 1 | Win count: 61 | Win rate: 0.750 | time: 12.29 minutes\n",
      "not_over\n",
      "Epoch: 104/999 | Loss: 0.0205 | Episodes: 58 | Win count: 62 | Win rate: 0.750 | time: 12.35 minutes\n",
      "not_over\n",
      "Epoch: 105/999 | Loss: 0.0211 | Episodes: 88 | Win count: 63 | Win rate: 0.781 | time: 12.45 minutes\n",
      "not_over\n",
      "Epoch: 106/999 | Loss: 0.0196 | Episodes: 30 | Win count: 64 | Win rate: 0.781 | time: 12.48 minutes\n",
      "not_over\n",
      "Epoch: 107/999 | Loss: 0.0037 | Episodes: 14 | Win count: 65 | Win rate: 0.781 | time: 12.49 minutes\n",
      "not_over\n",
      "Epoch: 108/999 | Loss: 0.0111 | Episodes: 1 | Win count: 66 | Win rate: 0.781 | time: 12.49 minutes\n",
      "not_over\n",
      "Epoch: 109/999 | Loss: 0.0239 | Episodes: 1 | Win count: 67 | Win rate: 0.781 | time: 12.49 minutes\n",
      "not_over\n",
      "Epoch: 110/999 | Loss: 0.0131 | Episodes: 17 | Win count: 68 | Win rate: 0.781 | time: 12.51 minutes\n",
      "not_over\n",
      "Epoch: 111/999 | Loss: 0.0047 | Episodes: 53 | Win count: 69 | Win rate: 0.812 | time: 12.56 minutes\n",
      "not_over\n",
      "Epoch: 112/999 | Loss: 0.0078 | Episodes: 47 | Win count: 70 | Win rate: 0.812 | time: 12.61 minutes\n",
      "not_over\n",
      "Epoch: 113/999 | Loss: 0.0352 | Episodes: 18 | Win count: 71 | Win rate: 0.812 | time: 12.62 minutes\n",
      "not_over\n",
      "Epoch: 114/999 | Loss: 0.0051 | Episodes: 52 | Win count: 72 | Win rate: 0.844 | time: 12.68 minutes\n",
      "not_over\n",
      "Epoch: 115/999 | Loss: 0.0055 | Episodes: 149 | Win count: 73 | Win rate: 0.875 | time: 12.83 minutes\n",
      "not_over\n",
      "Epoch: 116/999 | Loss: 0.0104 | Episodes: 113 | Win count: 74 | Win rate: 0.875 | time: 12.95 minutes\n",
      "not_over\n",
      "Epoch: 117/999 | Loss: 0.0257 | Episodes: 8 | Win count: 75 | Win rate: 0.875 | time: 12.96 minutes\n",
      "not_over\n",
      "Epoch: 118/999 | Loss: 0.0340 | Episodes: 1 | Win count: 76 | Win rate: 0.906 | time: 12.96 minutes\n",
      "not_over\n",
      "Epoch: 119/999 | Loss: 0.0317 | Episodes: 2 | Win count: 77 | Win rate: 0.906 | time: 12.97 minutes\n",
      "not_over\n",
      "Epoch: 120/999 | Loss: 0.0077 | Episodes: 19 | Win count: 78 | Win rate: 0.906 | time: 12.99 minutes\n",
      "not_over\n",
      "Epoch: 121/999 | Loss: 0.0068 | Episodes: 2 | Win count: 79 | Win rate: 0.906 | time: 12.99 minutes\n",
      "not_over\n",
      "Epoch: 122/999 | Loss: 0.0077 | Episodes: 134 | Win count: 79 | Win rate: 0.906 | time: 13.15 minutes\n",
      "not_over\n",
      "Epoch: 123/999 | Loss: 0.0135 | Episodes: 90 | Win count: 80 | Win rate: 0.906 | time: 13.24 minutes\n",
      "not_over\n",
      "Epoch: 124/999 | Loss: 0.0416 | Episodes: 10 | Win count: 81 | Win rate: 0.906 | time: 13.26 minutes\n",
      "not_over\n",
      "Epoch: 125/999 | Loss: 0.0222 | Episodes: 31 | Win count: 82 | Win rate: 0.906 | time: 13.29 minutes\n",
      "not_over\n",
      "Epoch: 126/999 | Loss: 0.0117 | Episodes: 1 | Win count: 83 | Win rate: 0.938 | time: 13.29 minutes\n",
      "not_over\n",
      "Epoch: 127/999 | Loss: 0.0104 | Episodes: 21 | Win count: 84 | Win rate: 0.969 | time: 13.31 minutes\n",
      "not_over\n",
      "Epoch: 128/999 | Loss: 0.0082 | Episodes: 6 | Win count: 85 | Win rate: 0.969 | time: 13.32 minutes\n",
      "not_over\n",
      "Epoch: 129/999 | Loss: 0.0075 | Episodes: 1 | Win count: 86 | Win rate: 0.969 | time: 13.32 minutes\n",
      "not_over\n",
      "Epoch: 130/999 | Loss: 0.0055 | Episodes: 26 | Win count: 87 | Win rate: 0.969 | time: 13.35 minutes\n",
      "not_over\n",
      "Epoch: 131/999 | Loss: 0.0204 | Episodes: 13 | Win count: 88 | Win rate: 0.969 | time: 13.36 minutes\n",
      "not_over\n",
      "Epoch: 132/999 | Loss: 0.0391 | Episodes: 67 | Win count: 89 | Win rate: 0.969 | time: 13.44 minutes\n",
      "not_over\n",
      "Epoch: 133/999 | Loss: 0.0069 | Episodes: 75 | Win count: 90 | Win rate: 0.969 | time: 13.52 minutes\n",
      "not_over\n",
      "Epoch: 134/999 | Loss: 0.0186 | Episodes: 21 | Win count: 91 | Win rate: 0.969 | time: 13.54 minutes\n",
      "not_over\n",
      "Epoch: 135/999 | Loss: 0.0027 | Episodes: 12 | Win count: 92 | Win rate: 0.969 | time: 13.56 minutes\n",
      "not_over\n",
      "Epoch: 136/999 | Loss: 0.0040 | Episodes: 4 | Win count: 93 | Win rate: 0.969 | time: 13.56 minutes\n",
      "not_over\n",
      "Epoch: 137/999 | Loss: 0.0049 | Episodes: 18 | Win count: 94 | Win rate: 0.969 | time: 13.58 minutes\n",
      "not_over\n",
      "Epoch: 138/999 | Loss: 0.0157 | Episodes: 20 | Win count: 95 | Win rate: 0.969 | time: 13.60 minutes\n",
      "not_over\n",
      "Epoch: 139/999 | Loss: 0.0030 | Episodes: 20 | Win count: 96 | Win rate: 0.969 | time: 13.62 minutes\n",
      "not_over\n",
      "Epoch: 140/999 | Loss: 0.0023 | Episodes: 22 | Win count: 97 | Win rate: 0.969 | time: 13.64 minutes\n",
      "not_over\n",
      "Epoch: 141/999 | Loss: 0.0088 | Episodes: 46 | Win count: 98 | Win rate: 0.969 | time: 13.69 minutes\n",
      "not_over\n",
      "Epoch: 142/999 | Loss: 0.0052 | Episodes: 20 | Win count: 99 | Win rate: 0.969 | time: 13.71 minutes\n",
      "not_over\n",
      "Epoch: 143/999 | Loss: 0.0051 | Episodes: 41 | Win count: 100 | Win rate: 0.969 | time: 13.75 minutes\n",
      "not_over\n",
      "Epoch: 144/999 | Loss: 0.0050 | Episodes: 1 | Win count: 101 | Win rate: 0.969 | time: 13.75 minutes\n",
      "not_over\n",
      "Epoch: 145/999 | Loss: 0.0019 | Episodes: 50 | Win count: 102 | Win rate: 0.969 | time: 13.79 minutes\n",
      "not_over\n",
      "Epoch: 146/999 | Loss: 0.0033 | Episodes: 30 | Win count: 103 | Win rate: 0.969 | time: 13.82 minutes\n",
      "not_over\n",
      "Epoch: 147/999 | Loss: 0.0020 | Episodes: 31 | Win count: 104 | Win rate: 0.969 | time: 13.85 minutes\n",
      "not_over\n",
      "Epoch: 148/999 | Loss: 0.0012 | Episodes: 25 | Win count: 105 | Win rate: 0.969 | time: 13.88 minutes\n",
      "not_over\n",
      "Epoch: 149/999 | Loss: 0.0011 | Episodes: 11 | Win count: 106 | Win rate: 0.969 | time: 13.89 minutes\n",
      "not_over\n",
      "Epoch: 150/999 | Loss: 0.0028 | Episodes: 12 | Win count: 107 | Win rate: 0.969 | time: 13.90 minutes\n",
      "not_over\n",
      "Epoch: 151/999 | Loss: 0.0028 | Episodes: 9 | Win count: 108 | Win rate: 0.969 | time: 13.91 minutes\n",
      "not_over\n",
      "Epoch: 152/999 | Loss: 0.0019 | Episodes: 21 | Win count: 109 | Win rate: 0.969 | time: 13.93 minutes\n",
      "not_over\n",
      "Epoch: 153/999 | Loss: 0.0012 | Episodes: 31 | Win count: 110 | Win rate: 0.969 | time: 13.96 minutes\n",
      "not_over\n",
      "Epoch: 154/999 | Loss: 0.0032 | Episodes: 16 | Win count: 111 | Win rate: 1.000 | time: 13.98 minutes\n",
      "not_over\n",
      "Epoch: 155/999 | Loss: 0.0017 | Episodes: 43 | Win count: 112 | Win rate: 1.000 | time: 14.03 minutes\n",
      "not_over\n",
      "Epoch: 156/999 | Loss: 0.0006 | Episodes: 28 | Win count: 113 | Win rate: 1.000 | time: 14.06 minutes\n",
      "not_over\n",
      "Epoch: 157/999 | Loss: 0.0021 | Episodes: 19 | Win count: 114 | Win rate: 1.000 | time: 14.08 minutes\n",
      "not_over\n",
      "Epoch: 158/999 | Loss: 0.0004 | Episodes: 26 | Win count: 115 | Win rate: 1.000 | time: 14.11 minutes\n",
      "not_over\n",
      "Epoch: 159/999 | Loss: 0.0013 | Episodes: 23 | Win count: 116 | Win rate: 1.000 | time: 14.14 minutes\n",
      "not_over\n",
      "Epoch: 160/999 | Loss: 0.0022 | Episodes: 5 | Win count: 117 | Win rate: 1.000 | time: 14.15 minutes\n",
      "not_over\n",
      "Epoch: 161/999 | Loss: 0.0010 | Episodes: 26 | Win count: 118 | Win rate: 1.000 | time: 14.18 minutes\n",
      "not_over\n",
      "Epoch: 162/999 | Loss: 0.0007 | Episodes: 22 | Win count: 119 | Win rate: 1.000 | time: 14.20 minutes\n",
      "not_over\n",
      "Epoch: 163/999 | Loss: 0.0009 | Episodes: 32 | Win count: 120 | Win rate: 1.000 | time: 14.25 minutes\n",
      "not_over\n",
      "Epoch: 164/999 | Loss: 0.0012 | Episodes: 17 | Win count: 121 | Win rate: 1.000 | time: 14.27 minutes\n",
      "not_over\n",
      "Epoch: 165/999 | Loss: 0.0012 | Episodes: 38 | Win count: 122 | Win rate: 1.000 | time: 14.32 minutes\n",
      "not_over\n",
      "Epoch: 166/999 | Loss: 0.0008 | Episodes: 20 | Win count: 123 | Win rate: 1.000 | time: 14.34 minutes\n",
      "not_over\n",
      "Epoch: 167/999 | Loss: 0.0013 | Episodes: 21 | Win count: 124 | Win rate: 1.000 | time: 14.37 minutes\n",
      "not_over\n",
      "Epoch: 168/999 | Loss: 0.0007 | Episodes: 21 | Win count: 125 | Win rate: 1.000 | time: 14.39 minutes\n",
      "not_over\n",
      "Epoch: 169/999 | Loss: 0.0007 | Episodes: 38 | Win count: 126 | Win rate: 1.000 | time: 14.43 minutes\n",
      "not_over\n",
      "Epoch: 170/999 | Loss: 0.0001 | Episodes: 15 | Win count: 127 | Win rate: 1.000 | time: 14.45 minutes\n",
      "not_over\n",
      "Epoch: 171/999 | Loss: 0.0006 | Episodes: 9 | Win count: 128 | Win rate: 1.000 | time: 14.46 minutes\n",
      "not_over\n",
      "Epoch: 172/999 | Loss: 0.0011 | Episodes: 22 | Win count: 129 | Win rate: 1.000 | time: 14.49 minutes\n",
      "not_over\n",
      "Epoch: 173/999 | Loss: 0.0015 | Episodes: 3 | Win count: 130 | Win rate: 1.000 | time: 14.49 minutes\n",
      "not_over\n",
      "Epoch: 174/999 | Loss: 0.0011 | Episodes: 11 | Win count: 131 | Win rate: 1.000 | time: 14.51 minutes\n",
      "not_over\n",
      "Epoch: 175/999 | Loss: 0.0008 | Episodes: 29 | Win count: 132 | Win rate: 1.000 | time: 14.54 minutes\n",
      "not_over\n",
      "Epoch: 176/999 | Loss: 0.0044 | Episodes: 26 | Win count: 133 | Win rate: 1.000 | time: 14.57 minutes\n",
      "not_over\n",
      "Epoch: 177/999 | Loss: 0.0009 | Episodes: 27 | Win count: 134 | Win rate: 1.000 | time: 14.61 minutes\n",
      "not_over\n",
      "Epoch: 178/999 | Loss: 0.0013 | Episodes: 25 | Win count: 135 | Win rate: 1.000 | time: 14.64 minutes\n",
      "not_over\n",
      "Epoch: 179/999 | Loss: 0.0008 | Episodes: 19 | Win count: 136 | Win rate: 1.000 | time: 14.67 minutes\n",
      "not_over\n",
      "Epoch: 180/999 | Loss: 0.0010 | Episodes: 25 | Win count: 137 | Win rate: 1.000 | time: 14.71 minutes\n",
      "not_over\n",
      "Epoch: 181/999 | Loss: 0.0004 | Episodes: 3 | Win count: 138 | Win rate: 1.000 | time: 14.72 minutes\n",
      "not_over\n",
      "Epoch: 182/999 | Loss: 0.0011 | Episodes: 32 | Win count: 139 | Win rate: 1.000 | time: 14.77 minutes\n",
      "not_over\n",
      "Epoch: 183/999 | Loss: 0.0008 | Episodes: 27 | Win count: 140 | Win rate: 1.000 | time: 14.80 minutes\n",
      "not_over\n",
      "Epoch: 184/999 | Loss: 0.0009 | Episodes: 30 | Win count: 141 | Win rate: 1.000 | time: 14.85 minutes\n",
      "not_over\n",
      "Epoch: 185/999 | Loss: 0.0010 | Episodes: 29 | Win count: 142 | Win rate: 1.000 | time: 14.89 minutes\n",
      "not_over\n",
      "Epoch: 186/999 | Loss: 0.0005 | Episodes: 14 | Win count: 143 | Win rate: 1.000 | time: 14.92 minutes\n",
      "not_over\n",
      "Epoch: 187/999 | Loss: 0.0010 | Episodes: 5 | Win count: 144 | Win rate: 1.000 | time: 14.94 minutes\n",
      "not_over\n",
      "Epoch: 188/999 | Loss: 0.0015 | Episodes: 10 | Win count: 145 | Win rate: 1.000 | time: 14.96 minutes\n",
      "not_over\n",
      "Epoch: 189/999 | Loss: 0.0007 | Episodes: 11 | Win count: 146 | Win rate: 1.000 | time: 14.98 minutes\n",
      "not_over\n",
      "Epoch: 190/999 | Loss: 0.0003 | Episodes: 32 | Win count: 147 | Win rate: 1.000 | time: 15.02 minutes\n",
      "not_over\n",
      "Epoch: 191/999 | Loss: 0.0003 | Episodes: 11 | Win count: 148 | Win rate: 1.000 | time: 15.04 minutes\n",
      "not_over\n",
      "Epoch: 192/999 | Loss: 0.0017 | Episodes: 24 | Win count: 149 | Win rate: 1.000 | time: 15.07 minutes\n",
      "not_over\n",
      "Epoch: 193/999 | Loss: 0.0001 | Episodes: 25 | Win count: 150 | Win rate: 1.000 | time: 15.10 minutes\n",
      "not_over\n",
      "Epoch: 194/999 | Loss: 0.0008 | Episodes: 27 | Win count: 151 | Win rate: 1.000 | time: 15.14 minutes\n",
      "not_over\n",
      "Epoch: 195/999 | Loss: 0.0006 | Episodes: 35 | Win count: 152 | Win rate: 1.000 | time: 15.19 minutes\n",
      "not_over\n",
      "Epoch: 196/999 | Loss: 0.0015 | Episodes: 14 | Win count: 153 | Win rate: 1.000 | time: 15.21 minutes\n",
      "not_over\n",
      "Epoch: 197/999 | Loss: 0.0006 | Episodes: 5 | Win count: 154 | Win rate: 1.000 | time: 15.22 minutes\n",
      "not_over\n",
      "Epoch: 198/999 | Loss: 0.0016 | Episodes: 44 | Win count: 155 | Win rate: 1.000 | time: 15.28 minutes\n",
      "not_over\n",
      "Epoch: 199/999 | Loss: 0.0025 | Episodes: 16 | Win count: 156 | Win rate: 1.000 | time: 15.30 minutes\n",
      "not_over\n",
      "Epoch: 200/999 | Loss: 0.0043 | Episodes: 9 | Win count: 157 | Win rate: 1.000 | time: 15.31 minutes\n",
      "not_over\n",
      "Epoch: 201/999 | Loss: 0.0017 | Episodes: 14 | Win count: 158 | Win rate: 1.000 | time: 15.33 minutes\n",
      "not_over\n",
      "Epoch: 202/999 | Loss: 0.0015 | Episodes: 7 | Win count: 159 | Win rate: 1.000 | time: 15.34 minutes\n",
      "not_over\n",
      "Epoch: 203/999 | Loss: 0.0009 | Episodes: 28 | Win count: 160 | Win rate: 1.000 | time: 15.37 minutes\n",
      "not_over\n",
      "Epoch: 204/999 | Loss: 0.0014 | Episodes: 7 | Win count: 161 | Win rate: 1.000 | time: 15.38 minutes\n",
      "not_over\n",
      "Epoch: 205/999 | Loss: 0.0059 | Episodes: 10 | Win count: 162 | Win rate: 1.000 | time: 15.39 minutes\n",
      "not_over\n",
      "Epoch: 206/999 | Loss: 0.0021 | Episodes: 44 | Win count: 163 | Win rate: 1.000 | time: 15.44 minutes\n",
      "not_over\n",
      "Epoch: 207/999 | Loss: 0.0041 | Episodes: 38 | Win count: 164 | Win rate: 1.000 | time: 15.48 minutes\n",
      "not_over\n",
      "Epoch: 208/999 | Loss: 0.0010 | Episodes: 30 | Win count: 165 | Win rate: 1.000 | time: 15.52 minutes\n",
      "not_over\n",
      "Epoch: 209/999 | Loss: 0.0022 | Episodes: 26 | Win count: 166 | Win rate: 1.000 | time: 15.55 minutes\n",
      "not_over\n",
      "Epoch: 210/999 | Loss: 0.0020 | Episodes: 41 | Win count: 167 | Win rate: 1.000 | time: 15.61 minutes\n",
      "not_over\n",
      "Epoch: 211/999 | Loss: 0.0028 | Episodes: 28 | Win count: 168 | Win rate: 1.000 | time: 15.65 minutes\n",
      "not_over\n",
      "Epoch: 212/999 | Loss: 0.0026 | Episodes: 3 | Win count: 169 | Win rate: 1.000 | time: 15.65 minutes\n",
      "Reached 100% win rate at epoch: 212\n",
      "n_epoch: 212, max_mem: 512, data: 32, time: 15.67 minutes\n"
     ]
    },
    {
     "data": {
      "text/plain": [
       "939.902123"
      ]
     },
     "execution_count": 11,
     "metadata": {},
     "output_type": "execute_result"
    }
   ],
   "source": [
    "model = build_model(maze)\n",
    "qtrain(model, maze, n_epoch=1000, max_memory=8*maze.size, data_size=32)"
   ]
  },
  {
   "cell_type": "markdown",
   "metadata": {},
   "source": [
    "This cell will check to see if the model passes the completion check. Note: This could take several minutes."
   ]
  },
  {
   "cell_type": "code",
   "execution_count": 12,
   "metadata": {},
   "outputs": [
    {
     "data": {
      "text/plain": [
       "<matplotlib.image.AxesImage at 0x2110f49f448>"
      ]
     },
     "execution_count": 12,
     "metadata": {},
     "output_type": "execute_result"
    },
    {
     "data": {
      "image/png": "[encoded data removed]",
      "text/plain": [
       "<Figure size 432x288 with 1 Axes>"
      ]
     },
     "metadata": {
      "needs_background": "light"
     },
     "output_type": "display_data"
    }
   ],
   "source": [
    "completion_check(model, qmaze)\n",
    "show(qmaze)"
   ]
  },
  {
   "cell_type": "markdown",
   "metadata": {},
   "source": [
    "This cell will test your model for one game. It will start the pirate at the top-left corner and run play_game. The agent should find a path from the starting position to the target (treasure). The treasure is located in the bottom-right corner."
   ]
  },
  {
   "cell_type": "code",
   "execution_count": 13,
   "metadata": {},
   "outputs": [
    {
     "data": {
      "text/plain": [
       "<matplotlib.image.AxesImage at 0x2110fa7c988>"
      ]
     },
     "execution_count": 13,
     "metadata": {},
     "output_type": "execute_result"
    },
    {
     "data": {
      "image/png": "[encoded data removed]",
      "text/plain": [
       "<Figure size 432x288 with 1 Axes>"
      ]
     },
     "metadata": {
      "needs_background": "light"
     },
     "output_type": "display_data"
    }
   ],
   "source": [
    "pirate_start = (0, 0)\n",
    "play_game(model, qmaze, pirate_start)\n",
    "show(qmaze)"
   ]
  },
  {
   "cell_type": "markdown",
   "metadata": {},
   "source": [
    "## Save and Submit Your Work\n",
    "After you have finished creating the code for your notebook, save your work. Make sure that your notebook contains your name in the filename (e.g. Doe_Jane_ProjectTwo.ipynb). This will help your instructor access and grade your work easily. Download a copy of your IPYNB file and submit it to Brightspace. Refer to the Jupyter Notebook in Apporto Tutorial if you need help with these tasks."
   ]
  }
 ],
 "metadata": {
  "kernelspec": {
   "display_name": "Python 3",
   "language": "python",
   "name": "python3"
  },
  "language_info": {
   "codemirror_mode": {
    "name": "ipython",
    "version": 3
   },
   "file_extension": ".py",
   "mimetype": "text/x-python",
   "name": "python",
   "nbconvert_exporter": "python",
   "pygments_lexer": "ipython3",
   "version": "3.7.4"
  }
 },
 "nbformat": 4,
 "nbformat_minor": 2
}
